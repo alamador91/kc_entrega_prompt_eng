{
 "cells": [
  {
   "cell_type": "markdown",
   "metadata": {
    "id": "sojG3rvfb2tE"
   },
   "source": [
    "# Ejercicio 1"
   ]
  },
  {
   "cell_type": "markdown",
   "metadata": {
    "id": "09-cE2ZAb9GS"
   },
   "source": [
    "Eres un renombrado planificador de eventos, has atendido eventos de primer nivel en todo el mundo y trabajado con personalidades famosas. Dentro de un mes va a haber un evento para conmemorar el décimo aniversario de la fundación de nuestra empresa. Queremos celebrarlo por todo lo alto. Queremos un lugar muy fino en {lugar}. Tendremos aproximádamente unos {num_invitados} invitados. Nuestra empresa, llamada {nombre_empresa} desarrolla sistemas de Inteligencia Artificial para el procesamiento de lenguaje natural para analizar opiniones de usuarios sobre distintos negocios. Contamos con un presupuesto estimado de {presupuesto} euros. A partir de estos datos:\n",
    "Propón varios lugares que consideres apropiados para este evento. En cada lugar, comenta qué actividades podríamos realizar, la decoración a utilizar, el tipo de plato que deberíamos servir, y cualquier otro detalle que consideres relevante. Siempre intenta ajustarte al presupuesto indicado, pero puedes permitirte hasta un 10% más si consideras que lo vale. Este evento tiene que quedar para la historia, habrá varios clientes potenciales e inversionistas. Utiliza todos tus conocimientos y experiencia para planificar un evento que sea recordado para siempre por todos los invitados"
   ]
  },
  {
   "cell_type": "markdown",
   "metadata": {
    "id": "yQXr4alb6Xu9"
   },
   "source": [
    "# Ejercicio 2"
   ]
  },
  {
   "cell_type": "code",
   "execution_count": null,
   "metadata": {
    "id": "tCq0I4sy-tTh"
   },
   "outputs": [],
   "source": [
    "texto = \"\"\"\n",
    "En 2022, un año después de la aprobación del Decreto Ley 34, responsable del perfeccionamiento del sistema empresarial en Cuba, nacía\n",
    "Garza como una entidad filial, encargada del control de plagas e higienización, que ha sabido superar su objeto social e identificar\n",
    "otros servicios, para beneficio de trabajadores y del dinamismo de la economía del país.\n",
    "Subordinada al Grupo Empresarial de Logística del Ministerio de la Agricultura (Gelma), la función de Garza se distingue de los objetivos\n",
    "de su empresa “madre” en cuanto a la prestación de servicios especializados, apartada del aseguramiento de insumos, materias primas y equipamientos, dirigidos al sector agrario.\n",
    "Según su director, Arquímides Ladrón de Guevara Álvarez, la génesis no estuvo exenta de dudas y horas de estudio, en principio, para comprender\n",
    "mejor la Resolución que facilitaba su origen. En ese tramo inicial reconoce como pieza clave el asesoramiento del Ministerio de Economía y Planificación (MEP), y fundamentalmente de su Dirección Jurídica.\n",
    "Al cabo de dos años, y luego de constituirse en 2023 como una empresa independiente, Ladrón de Guevara puede hablar mejor de su experiencia, a partir de la cual\n",
    "destaca que “la empresa filial no puede ser una camisa de fuerza. Hay que estudiar si una UEB tiene todas las condiciones para constituirse como tal”, dice.\n",
    "“No se puede hacer una empresa filial porque lo exija alguien. De hecho, lo primero que pide el MEP en el expediente son los resultados económicos y cuánto de\n",
    "ello queda para la empresa filial al extraerlo de la economía general. Se mira que no haya pérdidas y que se cumplan los indicadores. Una estructura no puede nacer a costa de una afectación,\n",
    "ni para el Estado ni tampoco para los trabajadores”, apunta.\n",
    "\"\"\"\n",
    "\n",
    "template = f\"Del siguiente texto, realiza un resumen del mismo: {texto}. Después de eso, lístame los puntos clave del mismo. Sé lo más conciso posible\""
   ]
  },
  {
   "cell_type": "markdown",
   "metadata": {
    "id": "FLW2rIQ99s3v"
   },
   "source": [
    "## OpenAI + LangChain"
   ]
  },
  {
   "cell_type": "code",
   "execution_count": null,
   "metadata": {
    "collapsed": true,
    "id": "eyGp-WzoxCg4"
   },
   "outputs": [],
   "source": [
    "pip install langchain langchain-openai"
   ]
  },
  {
   "cell_type": "code",
   "execution_count": null,
   "metadata": {
    "id": "IH1GN4wZxIhY"
   },
   "outputs": [],
   "source": [
    "openai_api_key= \"\""
   ]
  },
  {
   "cell_type": "code",
   "execution_count": null,
   "metadata": {
    "id": "QfAKTZhnxlAi"
   },
   "outputs": [],
   "source": [
    "from langchain_openai import ChatOpenAI\n",
    "from langchain.prompts import ChatPromptTemplate\n",
    "\n",
    "chat = ChatOpenAI(temperature=0.0, model=\"gpt-3.5-turbo\", api_key = openai_api_key)"
   ]
  },
  {
   "cell_type": "code",
   "execution_count": null,
   "metadata": {
    "colab": {
     "base_uri": "https://localhost:8080/"
    },
    "id": "YJyfI-m43ITy",
    "outputId": "1f6f1bd6-c0f5-4f36-d08a-986effa5ad49"
   },
   "outputs": [
    {
     "name": "stdout",
     "output_type": "stream",
     "text": [
      "Resumen:\n",
      "En 2022 nace Garza, una entidad filial encargada del control de plagas e higienización en Cuba, que ha ampliado sus servicios para beneficiar a los trabajadores y la economía del país. Subordinada al Grupo Empresarial de Logística del Ministerio de la Agricultura, Garza se distingue por ofrecer servicios especializados. Su director destaca la importancia de estudiar las condiciones para constituir una empresa filial y asegurar que no haya pérdidas ni afectaciones para el Estado o los trabajadores.\n",
      "\n",
      "Puntos clave:\n",
      "1. Nacimiento de Garza en 2022 como entidad filial en Cuba.\n",
      "2. Ampliación de servicios para beneficiar a trabajadores y economía del país.\n",
      "3. Subordinada al Grupo Empresarial de Logística del Ministerio de la Agricultura.\n",
      "4. Importancia de estudiar condiciones para constituir una empresa filial.\n",
      "5. Garantizar que no haya pérdidas ni afectaciones para el Estado o los trabajadores.\n"
     ]
    }
   ],
   "source": [
    "prompt_template = ChatPromptTemplate.from_template(template)\n",
    "customer_messages = prompt_template.format_messages(\n",
    "                    #style=style,\n",
    "                    text=texto\n",
    "                    )\n",
    "customer_response = chat(customer_messages)\n",
    "print(customer_response.content)"
   ]
  }
 ],
 "metadata": {
  "colab": {
   "provenance": []
  },
  "kernelspec": {
   "display_name": "Python 3 (ipykernel)",
   "language": "python",
   "name": "python3"
  },
  "language_info": {
   "codemirror_mode": {
    "name": "ipython",
    "version": 3
   },
   "file_extension": ".py",
   "mimetype": "text/x-python",
   "name": "python",
   "nbconvert_exporter": "python",
   "pygments_lexer": "ipython3",
   "version": "3.11.5"
  }
 },
 "nbformat": 4,
 "nbformat_minor": 1
}
